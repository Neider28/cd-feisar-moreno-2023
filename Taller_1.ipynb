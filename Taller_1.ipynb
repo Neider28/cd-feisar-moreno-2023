{
  "nbformat": 4,
  "nbformat_minor": 0,
  "metadata": {
    "colab": {
      "provenance": []
    },
    "kernelspec": {
      "name": "python3",
      "display_name": "Python 3"
    },
    "language_info": {
      "name": "python"
    }
  },
  "cells": [
    {
      "cell_type": "code",
      "execution_count": 10,
      "metadata": {
        "colab": {
          "base_uri": "https://localhost:8080/"
        },
        "id": "0kFA4DyrxgOg",
        "outputId": "d2e20052-b1f0-43a0-bfe2-fcb415ffc0fa"
      },
      "outputs": [
        {
          "output_type": "stream",
          "name": "stdout",
          "text": [
            "   area  precio\n",
            "0    76     200\n",
            "1    92     320\n",
            "2   107     300\n",
            "3    42     160\n",
            "4    65     190\n",
            "5   150     315\n",
            "6    65     230\n",
            "7   105     380\n",
            "8    40     155\n",
            "9    55     175\n"
          ]
        }
      ],
      "source": [
        "import pandas as pd\n",
        "import numpy as np\n",
        "import matplotlib.pyplot as plt\n",
        "\n",
        "area = [76, 92, 107, 42, 65, 150, 65, 105, 40, 55]\n",
        "precio = [200, 320, 300, 160, 190, 315, 230, 380, 155, 175]\n",
        "\n",
        "dt = pd.DataFrame({'area': area, 'precio': precio})\n",
        "print(dt)"
      ]
    },
    {
      "cell_type": "code",
      "source": [
        "from sklearn.linear_model import LinearRegression\n",
        "#Graficar los nodos dados (ubicaciones)\n",
        "\n",
        "area= dt['area']\n",
        "valor = dt['precio']\n",
        "\n",
        "X = []\n",
        "for i in range(len(dt['area'])):\n",
        "    X.append(area[i])\n",
        "    X.append(valor[i])\n",
        "\n",
        "X = np.array(X)\n",
        "\n",
        "X = X.reshape(-1, 2,)\n",
        "\n",
        "\n",
        "plt.scatter(area, valor)\n",
        "plt.show()"
      ],
      "metadata": {
        "colab": {
          "base_uri": "https://localhost:8080/",
          "height": 430
        },
        "id": "AOlgv5wj0Xns",
        "outputId": "310abf83-163d-404e-8dac-609d80f81e8d"
      },
      "execution_count": 17,
      "outputs": [
        {
          "output_type": "display_data",
          "data": {
            "text/plain": [
              "<Figure size 640x480 with 1 Axes>"
            ],
            "image/png": "[encoded data removed]"
          },
          "metadata": {}
        }
      ]
    },
    {
      "cell_type": "code",
      "source": [
        "def linea_menos_cuadrados(x, y):\n",
        "    n = len(x)\n",
        "    if n != len(y):\n",
        "        raise ValueError(\"Los arrays x e y deben tener la misma longitud.\")\n",
        "\n",
        "    sum_x = np.sum(x)\n",
        "    sum_y = np.sum(y)\n",
        "    sum_xy = np.sum(x * y)\n",
        "    sum_x_squared = np.sum(x ** 2)\n",
        "\n",
        "    m = (n * sum_xy - sum_x * sum_y) / (n * sum_x_squared - sum_x ** 2)\n",
        "    b = (sum_y - m * sum_x) / n\n",
        "\n",
        "    return m, b\n",
        "\n",
        "m, b = linea_menos_cuadrados(area, valor)\n",
        "print(f\"La ecuación de la recta es: y = {m:.2f}x + {b:.2f}\")"
      ],
      "metadata": {
        "colab": {
          "base_uri": "https://localhost:8080/"
        },
        "id": "UVGaHNt2796G",
        "outputId": "584a645e-753e-4576-8a16-9ee3f1cf7768"
      },
      "execution_count": 18,
      "outputs": [
        {
          "output_type": "stream",
          "name": "stdout",
          "text": [
            "La ecuación de la recta es: y = 1.94x + 87.65\n"
          ]
        }
      ]
    }
  ]
}